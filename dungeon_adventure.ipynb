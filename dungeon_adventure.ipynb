{
 "cells": [
  {
   "cell_type": "markdown",
   "id": "54471718",
   "metadata": {},
   "source": [
    "# Dungeon Adventure Game - Instructions\n",
    "\n",
    "In this exercise, you will build a text-based dungeon adventure game in Python.\n",
    "\n",
    "You will apply everything you've learned so far, including:\n",
    "- Variables\n",
    "- Operators\n",
    "- Lists\n",
    "- Dictionaries\n",
    "- Loops\n",
    "- Conditionals\n",
    "- The `random` module\n",
    "\n",
    "Follow the prompts in each section to build your game step by step. By the end, you will have a fully functioning game where the player can explore rooms, search for treasure, avoid traps, and see their final score based on the treasures collected.\n",
    "\n",
    "Complete each section before moving on to the next.\n"
   ]
  },
  {
   "cell_type": "code",
   "execution_count": null,
   "id": "eee84ad5",
   "metadata": {},
   "outputs": [],
   "source": [
    "# Step 1: Player Setup\n",
    "# Prompt the player for their name.\n",
    "# Set health to 10.\n",
    "# Create an empty list to store their inventory."
   ]
  },
  {
   "cell_type": "code",
   "execution_count": null,
   "id": "d0b2cd53",
   "metadata": {},
   "outputs": [],
   "source": [
    "# Step 1: Player Setup code\n",
    "health = 10\n",
    "character_inventory = []\n",
    "character_name = input(\"Please type in character name: \")\n",
    "print(f\"Welcome\", character_name,\"! Your health is set at\", health)\n"
   ]
  },
  {
   "cell_type": "code",
   "execution_count": null,
   "id": "3a0aecec",
   "metadata": {},
   "outputs": [],
   "source": [
    "# Step 2: Treasure Dictionary\n",
    "# Create a dictionary of treasures where the keys are treasure names\n",
    "# and the values are the gold value of each treasure.\n"
   ]
  },
  {
   "cell_type": "code",
   "execution_count": null,
   "id": "3324241a",
   "metadata": {},
   "outputs": [],
   "source": [
    "#Step 2: Treasure Dictionary\n",
    "treasures = {\n",
    "    \"ruby\":25,\n",
    "    \"monster fang\":10,\n",
    "    \"diamond\":50, \n",
    "    \"chaos emerald\":100,\n",
    "    \"blood ruby\":10000,\n",
    "    \"cauldron\":50000,   \n",
    "}\n",
    "\n",
    "treasure_list = list(treasures.keys())\n"
   ]
  },
  {
   "cell_type": "code",
   "execution_count": null,
   "id": "1a24ddaf",
   "metadata": {},
   "outputs": [],
   "source": [
    "# Step 3: Game Loop - Moving through 5 rooms\n",
    "# Use a for loop to represent rooms 1 to 5.\n",
    "# In each room, display the current room number and the options:\n",
    "# 1. Search for treasure\n",
    "# 2. Move to next room\n",
    "# 3. Check health and inventory\n",
    "# 4. Quit the game\n",
    "# Make sure to handle each option appropriately.\n",
    "\n",
    "\n",
    "# Step 4: Implement treasure search\n",
    "# If the player chooses to search, randomly decide if they find treasure or a trap.\n",
    "# If treasure, randomly pick from the treasure dictionary and add to inventory.\n",
    "# If trap, deduct 2 health points and print a message.\n",
    "\n",
    "\n",
    "# Step 5: Check health\n",
    "# If health drops to 0 or below, print a Game Over message and break the loop."
   ]
  },
  {
   "cell_type": "code",
   "execution_count": null,
   "id": "80187b22",
   "metadata": {},
   "outputs": [],
   "source": [
    "# Step 3\n",
    "\n",
    "import random\n",
    "\n",
    "for r in range(1, 6):\n",
    "    if health <= 0:\n",
    "        print(\"You have expired!!!\")\n",
    "        break\n",
    "    while True:\n",
    "        print(f\"You enter room:\", {r}, \"What would you like to do?\")\n",
    "        print(\"1. Search for treasure\\n2. Move to next room\\n3. Check health and inventory\\n4. Quit the game\")\n",
    "        players_choice = int(input(\"Please select a number 1-5\"))\n",
    "        if players_choice == 1:\n",
    "              # search for treasure\n",
    "            outcome = random.choice((\"treasure\", \"trap\"))\n",
    "            if outcome == \"treasure\":\n",
    "                   #add from treasure_trove\n",
    "                found_treasure = random.choice(treasure_list)\n",
    "                character_inventory.append(found_treasure)\n",
    "                print(f\"You found {found_treasure} worth {treasures[found_treasure]} gold!\")\n",
    "            else:\n",
    "                health -= 2\n",
    "                print(f\"Oh no! You took damage! Your health is now {health}!\")\n",
    "                if health <= 0:\n",
    "                    break          \n",
    "        #break\n",
    "        elif players_choice == 2:\n",
    "            print(\"You move to the next spooky room!\")\n",
    "            break\n",
    "        elif players_choice == 3:\n",
    "            print(f\"Your health is {health}\\nYou have in your inventory: {', '.join(character_inventory)}\")\n",
    "            #check health and inventory\n",
    "        elif players_choice == 4:\n",
    "            #quit game\n",
    "            print(\"You ran away!\")\n",
    "            break\n",
    "        else:\n",
    "            print(\"invalid choice! You do nothing!\")\n",
    "        if players_choice == 4:\n",
    "            break\n",
    "\n",
    "    ##else:\n",
    "    ## print(\"You do nothing\")\n",
    "\n",
    "     \n",
    "\n",
    "\n",
    "\n",
    "\n",
    "\n",
    "\n",
    "\n",
    "\n",
    "\n",
    "\n",
    "\n",
    "\n"
   ]
  },
  {
   "cell_type": "code",
   "execution_count": null,
   "id": "39cc69d2",
   "metadata": {},
   "outputs": [],
   "source": [
    "# Step 6: End of Game Summary\n",
    "# If the player quits or finishes all rooms, calculate the total value of the collected treasures.\n",
    "# Loop through the inventory and sum the gold value using the treasure dictionary.\n",
    "# Print the final health, inventory, and total treasure value.\n",
    "\n",
    "character_inventory_value = 0\n",
    "for item in character_inventory:\n",
    "    character_inventory_value += treasures[item]\n",
    "inventory_set = set(character_inventory)\n",
    "overall_inventroy = ', '.join(inventory_set)\n",
    "print(f\"Your quest has ended {character_name}!\\nYou have currently\\n Health: {health}\\nInventory of: {overall_inventroy}\\n With a gold value of: {character_inventory_value}\")\n"
   ]
  }
 ],
 "metadata": {
  "kernelspec": {
   "display_name": "Python 3",
   "language": "python",
   "name": "python3"
  },
  "language_info": {
   "codemirror_mode": {
    "name": "ipython",
    "version": 3
   },
   "file_extension": ".py",
   "mimetype": "text/x-python",
   "name": "python",
   "nbconvert_exporter": "python",
   "pygments_lexer": "ipython3",
   "version": "3.11.9"
  }
 },
 "nbformat": 4,
 "nbformat_minor": 5
}
